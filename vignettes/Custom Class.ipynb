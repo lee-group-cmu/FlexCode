{
 "cells": [
  {
   "cell_type": "markdown",
   "metadata": {},
   "source": [
    "This notebook provides an example on how to use a custom class within Flexcode. <br>\n",
    "In order to be compatible, a regression method needs to have a `fit` and `predict` method implemented - i.e. \n",
    "`model.fit()` and `model.predict()` need to be the functions used for training and predicting respectively.\n",
    "\n",
    "We provide here an example with artifical data. <br>\n",
    "We compare the FlexZBoost (Flexcode with builtin XGBoost) with the custom class of FLexcode when passing\n",
    "XGBoost Regressor. The two should give basically identical results."
   ]
  },
  {
   "cell_type": "code",
   "execution_count": null,
   "metadata": {},
   "outputs": [],
   "source": [
    "import flexcode\n",
    "import numpy as np\n",
    "import xgboost as xgb\n",
    "from flexcode.regression_models import XGBoost, CustomModel"
   ]
  },
  {
   "cell_type": "markdown",
   "metadata": {},
   "source": [
    "## Data Creation"
   ]
  },
  {
   "cell_type": "code",
   "execution_count": null,
   "metadata": {},
   "outputs": [],
   "source": [
    "def generate_data(n_draws):\n",
    "    x = np.random.normal(0, 1, n_draws)\n",
    "    z = np.random.normal(x, 1, n_draws)\n",
    "    return x, z\n",
    "\n",
    "x_train, z_train = generate_data(5000)\n",
    "x_validation, z_validation = generate_data(5000)\n",
    "x_test, z_test = generate_data(5000)"
   ]
  },
  {
   "cell_type": "markdown",
   "metadata": {},
   "source": [
    "## FlexZBoost"
   ]
  },
  {
   "cell_type": "code",
   "execution_count": null,
   "metadata": {},
   "outputs": [],
   "source": [
    "# Parameterize model\n",
    "model = flexcode.FlexCodeModel(XGBoost, max_basis=31, basis_system=\"cosine\",\n",
    "                             regression_params={'max_depth': 3, 'learning_rate': 0.5, 'objective': 'reg:linear'})\n",
    "\n",
    "# Fit and tune model\n",
    "model.fit(x_train, z_train)\n",
    "\n",
    "cdes_predict_xgb, z_grid = model.predict(x_test, n_grid=200)"
   ]
  },
  {
   "cell_type": "code",
   "execution_count": null,
   "metadata": {},
   "outputs": [],
   "source": [
    "model.__dict__"
   ]
  },
  {
   "cell_type": "code",
   "execution_count": null,
   "metadata": {},
   "outputs": [],
   "source": [
    "import pickle\n",
    "\n",
    "pickle.dump(file=open('example.pkl', 'wb'), obj=model, \n",
    "            protocol=pickle.HIGHEST_PROTOCOL)"
   ]
  },
  {
   "cell_type": "code",
   "execution_count": null,
   "metadata": {},
   "outputs": [],
   "source": [
    "model = pickle.load(open('example.pkl', 'rb'))\n",
    "model.__dict__"
   ]
  },
  {
   "cell_type": "code",
   "execution_count": null,
   "metadata": {},
   "outputs": [],
   "source": [
    "cdes_predict_xgb, z_grid = model.predict(x_test, n_grid=200)"
   ]
  },
  {
   "cell_type": "markdown",
   "metadata": {},
   "source": [
    "## Custom Model"
   ]
  },
  {
   "cell_type": "markdown",
   "metadata": {},
   "source": [
    "Our custom model in this case is going to be XGBRegressor. <br>\n",
    "The only difference with the above is that we are going to use the `CustomModel` class and we are going to pass\n",
    "XGBRegressor as `custom_model`.\n",
    "After that, everything is exactly as above. <br>\n",
    "\n",
    "Parameters can be passed also in the same way as above."
   ]
  },
  {
   "cell_type": "code",
   "execution_count": null,
   "metadata": {},
   "outputs": [],
   "source": [
    "# Parameterize model\n",
    "my_model = xgb.XGBRegressor\n",
    "model_c = flexcode.FlexCodeModel(CustomModel, max_basis=31, basis_system=\"cosine\",\n",
    "                                 regression_params={'max_depth': 3, 'learning_rate': 0.5, 'objective': 'reg:linear'},\n",
    "                                 custom_model=my_model)\n",
    "\n",
    "# Fit and tune model\n",
    "model_c.fit(x_train, z_train)\n",
    "cdes_predict_custom, z_grid = model_c.predict(x_test, n_grid=200)"
   ]
  },
  {
   "cell_type": "markdown",
   "metadata": {},
   "source": [
    "The two conditional density estimates should be the same across the board. <br>\n",
    "We check the maximum difference in absolute value between the two."
   ]
  },
  {
   "cell_type": "code",
   "execution_count": null,
   "metadata": {},
   "outputs": [],
   "source": [
    "np.max(np.abs(cdes_predict_custom - cdes_predict_xgb))"
   ]
  }
 ],
 "metadata": {
  "kernelspec": {
   "display_name": "Python 3",
   "language": "python",
   "name": "python3"
  },
  "language_info": {
   "codemirror_mode": {
    "name": "ipython",
    "version": 3
   },
   "file_extension": ".py",
   "mimetype": "text/x-python",
   "name": "python",
   "nbconvert_exporter": "python",
   "pygments_lexer": "ipython3",
   "version": "3.5.2"
  }
 },
 "nbformat": 4,
 "nbformat_minor": 2
}
